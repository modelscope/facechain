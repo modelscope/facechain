{
 "cells": [
  {
   "cell_type": "code",
   "execution_count": 1,
   "id": "4fce3e33-8757-47c0-943a-c309ab05dd0b",
   "metadata": {
    "execution": {
     "iopub.execute_input": "2023-09-14T11:58:47.465279Z",
     "iopub.status.busy": "2023-09-14T11:58:47.464962Z",
     "iopub.status.idle": "2023-09-14T11:58:47.663669Z",
     "shell.execute_reply": "2023-09-14T11:58:47.663095Z",
     "shell.execute_reply.started": "2023-09-14T11:58:47.465260Z"
    },
    "tags": []
   },
   "outputs": [
    {
     "name": "stdout",
     "output_type": "stream",
     "text": [
      "python3: can't open file 'app.py': [Errno 2] No such file or directory\n"
     ]
    }
   ],
   "source": [
    "!python3 app.py"
   ]
  }
 ],
 "metadata": {
  "kernelspec": {
   "display_name": "Python 3 (ipykernel)",
   "language": "python",
   "name": "python3"
  },
  "language_info": {
   "codemirror_mode": {
    "name": "ipython",
    "version": 3
   },
   "file_extension": ".py",
   "mimetype": "text/x-python",
   "name": "python",
   "nbconvert_exporter": "python",
   "pygments_lexer": "ipython3",
   "version": "3.8.16"
  }
 },
 "nbformat": 4,
 "nbformat_minor": 5
}
