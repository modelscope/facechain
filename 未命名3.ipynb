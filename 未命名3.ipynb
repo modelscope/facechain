{
 "cells": [
  {
   "cell_type": "code",
   "execution_count": null,
   "id": "ecc7508f-6b47-41e7-9bf9-0ef3d44a343c",
   "metadata": {
    "execution": {
     "iopub.execute_input": "2023-09-14T08:32:59.678405Z",
     "iopub.status.busy": "2023-09-14T08:32:59.677994Z"
    },
    "tags": []
   },
   "outputs": [
    {
     "name": "stdout",
     "output_type": "stream",
     "text": [
      "2023-09-14 16:33:02,899 - modelscope - INFO - PyTorch version 2.0.1+cu118 Found.\n",
      "2023-09-14 16:33:02,903 - modelscope - INFO - TensorFlow version 2.13.0 Found.\n",
      "2023-09-14 16:33:02,903 - modelscope - INFO - Loading ast index from /mnt/workspace/.cache/modelscope/ast_indexer\n",
      "2023-09-14 16:33:02,927 - modelscope - INFO - Loading done! Current index file version is 1.9.0, with md5 e024469f80e1732f2cfc5efd837ca7df and a total number of 921 components indexed\n",
      "/opt/conda/lib/python3.8/site-packages/controlnet_aux/mediapipe_face/mediapipe_face_common.py:7: UserWarning: The module 'mediapipe' is not installed. The package will have limited functionality. Please install it using the command: pip install 'mediapipe'\n",
      "  warnings.warn(\n",
      "[2023-09-14 16:33:04,263] [INFO] [real_accelerator.py:158:get_accelerator] Setting ds_accelerator to cuda (auto detect)\n",
      "2023-09-14 16:33:12.001794: I tensorflow/core/util/port.cc:110] oneDNN custom operations are on. You may see slightly different numerical results due to floating-point round-off errors from different computation orders. To turn them off, set the environment variable `TF_ENABLE_ONEDNN_OPTS=0`.\n",
      "2023-09-14 16:33:12.048179: I tensorflow/core/platform/cpu_feature_guard.cc:182] This TensorFlow binary is optimized to use available CPU instructions in performance-critical operations.\n",
      "To enable the following instructions: AVX2 AVX512F AVX512_VNNI FMA, in other operations, rebuild TensorFlow with the appropriate compiler flags.\n",
      "2023-09-14 16:33:12.809631: W tensorflow/compiler/tf2tensorrt/utils/py_utils.cc:38] TF-TRT Warning: Could not find TensorRT\n",
      "app.py:888: GradioDeprecationWarning: The `style` method is deprecated. Please set these arguments in the constructor instead.\n",
      "  output_images = gr.Gallery(label='Output', show_label=False).style(columns=3, rows=2, height=600,\n",
      "[['resources/inpaint_template/3.jpg'], ['resources/inpaint_template/4.jpg'], ['resources/inpaint_template/5.jpg'], ['resources/inpaint_template/1.jpg'], ['resources/inpaint_template/2.jpg']]\n",
      "app.py:967: GradioDeprecationWarning: The `style` method is deprecated. Please set these arguments in the constructor instead.\n",
      "  output_images = gr.Gallery(\n",
      "Running on local URL:  http://127.0.0.1:7860\n"
     ]
    }
   ],
   "source": [
    "!python3 app.py"
   ]
  },
  {
   "cell_type": "code",
   "execution_count": null,
   "id": "1504a004-62c5-4f3d-abfd-445310832372",
   "metadata": {},
   "outputs": [],
   "source": []
  }
 ],
 "metadata": {
  "kernelspec": {
   "display_name": "Python 3 (ipykernel)",
   "language": "python",
   "name": "python3"
  },
  "language_info": {
   "codemirror_mode": {
    "name": "ipython",
    "version": 3
   },
   "file_extension": ".py",
   "mimetype": "text/x-python",
   "name": "python",
   "nbconvert_exporter": "python",
   "pygments_lexer": "ipython3",
   "version": "3.8.16"
  }
 },
 "nbformat": 4,
 "nbformat_minor": 5
}
