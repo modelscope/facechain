{
 "cells": [
  {
   "cell_type": "markdown",
   "metadata": {
    "id": "AzOycrSUkK-0"
   },
   "source": [
    "Requirements:\n",
    "- GPU Mem Usage: 19G\n",
    "- Disk Usage: About 50G"
   ]
  },
  {
   "cell_type": "markdown",
   "metadata": {
    "id": "8yQEWTkekIx9"
   },
   "source": [
    "## Get facechain source code from GitHub"
   ]
  },
  {
   "cell_type": "code",
   "execution_count": 1,
   "metadata": {
    "execution": {
     "iopub.execute_input": "2023-09-10T02:56:34.740013Z",
     "iopub.status.busy": "2023-09-10T02:56:34.739695Z",
     "iopub.status.idle": "2023-09-10T02:56:34.920039Z",
     "shell.execute_reply": "2023-09-10T02:56:34.919291Z",
     "shell.execute_reply.started": "2023-09-10T02:56:34.739994Z"
    },
    "id": "WK_uDw0NkHTP",
    "tags": []
   },
   "outputs": [
    {
     "name": "stdout",
     "output_type": "stream",
     "text": [
      "fatal: 目标路径 'facechain' 已经存在，并且不是一个空目录。\n"
     ]
    }
   ],
   "source": [
    "!GIT_LFS_SKIP_SMUDGE=1 git clone https://github.com/modelscope/facechain.git --depth 1"
   ]
  },
  {
   "cell_type": "markdown",
   "metadata": {
    "id": "jUWWSGDG1ZGK"
   },
   "source": [
    "## Installation requirements\n",
    "- Note that you can ignore warning on dependencies conflicts at the end\n",
    "- You may use conda virtual env to avoid warning info."
   ]
  },
  {
   "cell_type": "code",
   "execution_count": 2,
   "metadata": {
    "execution": {
     "iopub.execute_input": "2023-09-10T02:56:39.365623Z",
     "iopub.status.busy": "2023-09-10T02:56:39.365046Z",
     "iopub.status.idle": "2023-09-10T02:56:40.016534Z",
     "shell.execute_reply": "2023-09-10T02:56:40.015678Z",
     "shell.execute_reply.started": "2023-09-10T02:56:39.365588Z"
    },
    "id": "QrwRDBipxKZw",
    "tags": []
   },
   "outputs": [
    {
     "name": "stdout",
     "output_type": "stream",
     "text": [
      "\u001b[31mERROR: Could not open requirements file: [Errno 2] 没有那个文件或目录: 'facechain/requirements.txt'\u001b[0m\u001b[31m\n",
      "\u001b[0m"
     ]
    }
   ],
   "source": [
    "!pip3 install -r facechain/requirements.txt"
   ]
  },
  {
   "cell_type": "markdown",
   "metadata": {
    "id": "0miaB1nC2VrA"
   },
   "source": [
    "## Check environment informaiton"
   ]
  },
  {
   "cell_type": "code",
   "execution_count": 3,
   "metadata": {
    "execution": {
     "iopub.execute_input": "2023-09-10T02:56:50.539068Z",
     "iopub.status.busy": "2023-09-10T02:56:50.538445Z",
     "iopub.status.idle": "2023-09-10T02:56:54.256407Z",
     "shell.execute_reply": "2023-09-10T02:56:54.255799Z",
     "shell.execute_reply.started": "2023-09-10T02:56:50.539037Z"
    },
    "id": "uvNE0kRxyI4q",
    "tags": []
   },
   "outputs": [
    {
     "name": "stdout",
     "output_type": "stream",
     "text": [
      "Sun Sep 10 10:56:50 2023       \n",
      "+-----------------------------------------------------------------------------+\n",
      "| NVIDIA-SMI 470.103.01   Driver Version: 470.103.01   CUDA Version: 11.8     |\n",
      "|-------------------------------+----------------------+----------------------+\n",
      "| GPU  Name        Persistence-M| Bus-Id        Disp.A | Volatile Uncorr. ECC |\n",
      "| Fan  Temp  Perf  Pwr:Usage/Cap|         Memory-Usage | GPU-Util  Compute M. |\n",
      "|                               |                      |               MIG M. |\n",
      "|===============================+======================+======================|\n",
      "|   0  NVIDIA A10          On   | 00000000:00:07.0 Off |                    0 |\n",
      "|  0%   69C    P0   153W / 150W |  11846MiB / 22731MiB |     95%      Default |\n",
      "|                               |                      |                  N/A |\n",
      "+-------------------------------+----------------------+----------------------+\n",
      "                                                                               \n",
      "+-----------------------------------------------------------------------------+\n",
      "| Processes:                                                                  |\n",
      "|  GPU   GI   CI        PID   Type   Process name                  GPU Memory |\n",
      "|        ID   ID                                                   Usage      |\n",
      "|=============================================================================|\n",
      "+-----------------------------------------------------------------------------+\n",
      "Name: torch\n",
      "Version: 2.0.1+cu118\n",
      "Summary: Tensors and Dynamic neural networks in Python with strong GPU acceleration\n",
      "Home-page: https://pytorch.org/\n",
      "Author: PyTorch Team\n",
      "Author-email: packages@pytorch.org\n",
      "License: BSD-3\n",
      "Location: /opt/conda/lib/python3.8/site-packages\n",
      "Requires: filelock, jinja2, networkx, sympy, triton, typing-extensions\n",
      "Required-by: accelerate, adaseq, basicsr, clip, controlnet-aux, ddpm-guided-diffusion, deepspeed, easyrobust, face-alignment, fairscale, fairseq, fastai, kornia, lpips, nerfacc, open-clip-torch, peft, ptflops, pytorch-lightning, pytorch-metric-learning, pytorch-wavelets, rotary-embedding-torch, smplx, speechbrain, stanza, taming-transformers-rom1504, thop, timm, torchaudio, torchmetrics, torchvision, triton, unicore, wenetruntime\n"
     ]
    }
   ],
   "source": [
    "!nvidia-smi\n",
    "!pip3 show torch\n",
    "\n",
    "# Note that this setup is verified on (cuda 12.0, torch2.0.1+cu118, Nvidia-A100 40G)"
   ]
  },
  {
   "cell_type": "markdown",
   "metadata": {
    "id": "klba298h2bbu"
   },
   "source": []
  },
  {
   "cell_type": "markdown",
   "metadata": {
    "id": "ciSxxSzI4l_u"
   },
   "source": [
    "## Installing mmcv-full\n",
    "- Several of the underlying models depend on mmcv-full, which could be tricky to install since it is environment-dependent, you may refer to [mmcv's official documentation](https://mmcv.readthedocs.io/zh_CN/latest/get_started/installation.html) for more details..\n",
    "- A prebuilt package is provided here for convenience, and was verified on (cuda 12.0, torch2.0.1+cu118, Nvidia-A100 40G)\n",
    "- If the prebuilt package does not work on your env setup, please use the alternative installation as suggested by [mmcv's official documentation](https://mmcv.readthedocs.io/zh_CN/latest/get_started/)"
   ]
  },
  {
   "cell_type": "code",
   "execution_count": 4,
   "metadata": {
    "execution": {
     "iopub.execute_input": "2023-09-10T02:56:59.696913Z",
     "iopub.status.busy": "2023-09-10T02:56:59.696593Z",
     "iopub.status.idle": "2023-09-10T02:57:00.283750Z",
     "shell.execute_reply": "2023-09-10T02:57:00.283099Z",
     "shell.execute_reply.started": "2023-09-10T02:56:59.696893Z"
    },
    "id": "t2lciBXyyuzA",
    "tags": []
   },
   "outputs": [
    {
     "name": "stdout",
     "output_type": "stream",
     "text": [
      "Looking in indexes: https://mirrors.aliyun.com/pypi/simple\n",
      "\u001b[31mERROR: mmcv_full-1.7.0-cp310-cp310-linux_x86_64.whl is not a supported wheel on this platform.\u001b[0m\u001b[31m\n",
      "\u001b[0m"
     ]
    }
   ],
   "source": [
    "# use prebuilt mmcv-full package provided by ModelScope (verified on cuda 12.0, torch2.0.1+cu118, Nvidia-A100 40G)\n",
    "!pip3 install https://modelscope.oss-cn-beijing.aliyuncs.com/packages/mmcv/mmcv_full-1.7.0-cp310-cp310-linux_x86_64.whl\n",
    "\n",
    "\n",
    "# alternative manual installtation. note that it may take 30+ mins for building dependencies.\n",
    "# !pip3 install -U openmim\n",
    "# !mim install mmcv-full==1.7.0\n"
   ]
  },
  {
   "cell_type": "markdown",
   "metadata": {
    "id": "OxDgRY8H4vta"
   },
   "source": [
    "## Start facechain WebUI service"
   ]
  },
  {
   "cell_type": "code",
   "execution_count": null,
   "metadata": {
    "id": "NW5o0iiezTCg"
   },
   "outputs": [],
   "source": [
    "import os\n",
    "os.chdir('/path/to/facechain') # Note: replace with your facechain root\n",
    "print(os.getcwd())\n",
    "\n",
    "# Click on the gradio URL to start building your FaceChain digital-twin!\n",
    "!python3 app.py"
   ]
  },
  {
   "cell_type": "code",
   "execution_count": null,
   "metadata": {
    "id": "Ghuyu_0Gx5XN"
   },
   "outputs": [],
   "source": []
  }
 ],
 "metadata": {
  "colab": {
   "machine_shape": "hm",
   "name": "facechain-demo.ipynb",
   "private_outputs": true,
   "provenance": []
  },
  "kernelspec": {
   "display_name": "Python 3 (ipykernel)",
   "language": "python",
   "name": "python3"
  },
  "language_info": {
   "codemirror_mode": {
    "name": "ipython",
    "version": 3
   },
   "file_extension": ".py",
   "mimetype": "text/x-python",
   "name": "python",
   "nbconvert_exporter": "python",
   "pygments_lexer": "ipython3",
   "version": "3.8.16"
  }
 },
 "nbformat": 4,
 "nbformat_minor": 4
}
